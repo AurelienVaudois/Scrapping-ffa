{
 "cells": [
  {
   "cell_type": "code",
   "execution_count": 53,
   "id": "ab60d056",
   "metadata": {},
   "outputs": [],
   "source": [
    "import requests\n",
    "import time\n",
    "import pandas as pd\n",
    "import numpy as np\n",
    "import json\n",
    "import matplotlib.pyplot as plt\n",
    "import seaborn as sns\n",
    "\n",
    "from src.utils.scraping_wa import get_athlete_results_by_name "
   ]
  },
  {
   "cell_type": "code",
   "execution_count": null,
   "id": "a5e4f58a",
   "metadata": {},
   "outputs": [
    {
     "name": "stdout",
     "output_type": "stream",
     "text": [
      "Athlète trouvé: Craig ENGELS (ID: 14467155)\n",
      "Recherche des années actives pour l'athlète ID: 14467155...\n",
      "Aucune information sur les années actives. Récupération de toutes les années.\n",
      "Utilisation du multithreading avec 15 workers...\n"
     ]
    },
    {
     "data": {
      "application/vnd.jupyter.widget-view+json": {
       "model_id": "243dfdc713604c19b92fa69bf535ca01",
       "version_major": 2,
       "version_minor": 0
      },
      "text/plain": [
       "Récupération des données:   0%|          | 0/66 [00:00<?, ?it/s]"
      ]
     },
     "metadata": {},
     "output_type": "display_data"
    },
    {
     "name": "stdout",
     "output_type": "stream",
     "text": [
      "✓ Données récupérées pour l'année 2011 (2 résultats)\n",
      "✓ Données récupérées pour l'année 2014 (3 résultats)\n",
      "✓ Données récupérées pour l'année 2012 (8 résultats)\n",
      "✓ Données récupérées pour l'année 2013 (9 résultats)\n",
      "✓ Données récupérées pour l'année 2016 (27 résultats)\n",
      "✓ Données récupérées pour l'année 2015 (18 résultats)\n",
      "✓ Données récupérées pour l'année 2022 (13 résultats)\n",
      "✓ Données récupérées pour l'année 2018 (26 résultats)\n",
      "✓ Données récupérées pour l'année 2017 (27 résultats)\n",
      "✓ Données récupérées pour l'année 2021 (19 résultats)\n",
      "✓ Données récupérées pour l'année 2019 (21 résultats)\n",
      "✓ Données récupérées pour l'année 2020 (12 résultats)\n",
      "✓ Données récupérées pour l'année 2025 (3 résultats)\n",
      "✓ Données récupérées pour l'année 2023 (9 résultats)\n",
      "✓ Données récupérées pour l'année 2024 (21 résultats)\n",
      "\n",
      "Résumé:\n",
      "• Nombre total de résultats: 218\n",
      "• Années avec résultats: [np.int64(2011), np.int64(2012), np.int64(2013), np.int64(2014), np.int64(2015), np.int64(2016), np.int64(2017), np.int64(2018), np.int64(2019), np.int64(2020), np.int64(2021), np.int64(2022), np.int64(2023), np.int64(2024), np.int64(2025)]\n",
      "• Épreuves: ['10,000 Metres', '1000 Metres', '1000 Metres Short Track', '1500 Metres', '1500 Metres Short Track', '2 Miles', '3000 Metres', '3000 Metres Short Track', '4x400 Metres Relay', '4x400 Metres Relay Mixed', '5 Kilometres Road', '5000 Metres', '5000 Metres Short Track', '800 Metres', '800 Metres Short Track', 'Distance Medley', 'Distance Medley Short Track', 'Mile', 'Mile Road', 'Mile Short Track']\n",
      "Temps d'exécution total: 3.04 secondes\n",
      "(218, 29)\n"
     ]
    }
   ],
   "source": [
    "# Exemple d'utilisation\n",
    "results = get_athlete_results_by_name(\"craig engels\", use_threading=True, max_workers=15, start_year=1960, end_year=2025)\n",
    "results.head()\n",
    "print(results.shape)"
   ]
  }
 ],
 "metadata": {
  "kernelspec": {
   "display_name": "base",
   "language": "python",
   "name": "python3"
  },
  "language_info": {
   "codemirror_mode": {
    "name": "ipython",
    "version": 3
   },
   "file_extension": ".py",
   "mimetype": "text/x-python",
   "name": "python",
   "nbconvert_exporter": "python",
   "pygments_lexer": "ipython3",
   "version": "3.12.3"
  }
 },
 "nbformat": 4,
 "nbformat_minor": 5
}
