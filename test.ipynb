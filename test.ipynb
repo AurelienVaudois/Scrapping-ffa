{
 "cells": [
  {
   "cell_type": "code",
   "execution_count": 14,
   "id": "78237bbb",
   "metadata": {},
   "outputs": [],
   "source": [
    "import requests\n",
    "from bs4 import BeautifulSoup\n",
    "import pandas as pd\n",
    "import sqlite3\n",
    "from typing import List, Optional\n",
    "import numpy as np\n",
    "import seaborn as sns\n",
    "import matplotlib.pyplot as plt"
   ]
  },
  {
   "cell_type": "code",
   "execution_count": 2,
   "id": "9f658c89",
   "metadata": {},
   "outputs": [],
   "source": [
    "from src.utils.file_utils import convert_time_to_seconds, create_full_date"
   ]
  },
  {
   "cell_type": "code",
   "execution_count": 3,
   "id": "ca9cd679",
   "metadata": {},
   "outputs": [],
   "source": [
    "conn = sqlite3.connect(\"data/athle_results.sqlite\")\n",
    "try:\n",
    "    df = pd.read_sql_query(f\"SELECT * FROM results\", conn)\n",
    "except Exception as e:\n",
    "    print(f\"Erreur lors de la lecture de la base : {e}\")"
   ]
  },
  {
   "cell_type": "code",
   "execution_count": 104,
   "id": "1e224d25",
   "metadata": {},
   "outputs": [],
   "source": [
    "conn.close()"
   ]
  },
  {
   "cell_type": "code",
   "execution_count": 98,
   "id": "96560630",
   "metadata": {},
   "outputs": [],
   "source": [
    "conn = sqlite3.connect(\"data/athle_results.sqlite\")\n",
    "try:\n",
    "    df = pd.read_sql_query(f\"SELECT * FROM athletes\", conn)\n",
    "except Exception as e:\n",
    "    print(f\"Erreur lors de la lecture de la base : {e}\")"
   ]
  },
  {
   "cell_type": "code",
   "execution_count": 99,
   "id": "80a01e41",
   "metadata": {},
   "outputs": [
    {
     "data": {
      "text/html": [
       "<div>\n",
       "<style scoped>\n",
       "    .dataframe tbody tr th:only-of-type {\n",
       "        vertical-align: middle;\n",
       "    }\n",
       "\n",
       "    .dataframe tbody tr th {\n",
       "        vertical-align: top;\n",
       "    }\n",
       "\n",
       "    .dataframe thead th {\n",
       "        text-align: right;\n",
       "    }\n",
       "</style>\n",
       "<table border=\"1\" class=\"dataframe\">\n",
       "  <thead>\n",
       "    <tr style=\"text-align: right;\">\n",
       "      <th></th>\n",
       "      <th>seq</th>\n",
       "      <th>name</th>\n",
       "      <th>club</th>\n",
       "      <th>sex</th>\n",
       "    </tr>\n",
       "  </thead>\n",
       "  <tbody>\n",
       "    <tr>\n",
       "      <th>0</th>\n",
       "      <td>4851475245544851495050494554</td>\n",
       "      <td>VAUDOIS Aurelien</td>\n",
       "      <td>- Athle 92*</td>\n",
       "      <td>M</td>\n",
       "    </tr>\n",
       "    <tr>\n",
       "      <th>1</th>\n",
       "      <td>495046534653504950494257</td>\n",
       "      <td>DIRAT Franck</td>\n",
       "      <td>- Athle 92*</td>\n",
       "      <td>M</td>\n",
       "    </tr>\n",
       "    <tr>\n",
       "      <th>2</th>\n",
       "      <td>49504851445551484851475246535148</td>\n",
       "      <td>POTTIER Quentin</td>\n",
       "      <td>- Athle 92*</td>\n",
       "      <td>M</td>\n",
       "    </tr>\n",
       "  </tbody>\n",
       "</table>\n",
       "</div>"
      ],
      "text/plain": [
       "                                seq              name          club sex\n",
       "0      4851475245544851495050494554  VAUDOIS Aurelien   - Athle 92*   M\n",
       "1          495046534653504950494257      DIRAT Franck   - Athle 92*   M\n",
       "2  49504851445551484851475246535148   POTTIER Quentin   - Athle 92*   M"
      ]
     },
     "execution_count": 99,
     "metadata": {},
     "output_type": "execute_result"
    }
   ],
   "source": [
    "df"
   ]
  },
  {
   "cell_type": "code",
   "execution_count": null,
   "id": "9d031a2d",
   "metadata": {},
   "outputs": [],
   "source": []
  },
  {
   "cell_type": "code",
   "execution_count": 64,
   "id": "e4616039",
   "metadata": {},
   "outputs": [
    {
     "name": "stdout",
     "output_type": "stream",
     "text": [
      "   id                           seq     club        date  \\\n",
      "0   1  4851475245544851495050494554  92111.0  2025-03-16   \n",
      "1   2  4851475245544851495050494554  92111.0  2025-02-09   \n",
      "2   3  4851475245544851495050494554  92111.0  2025-02-02   \n",
      "3   4  4851475245544851495050494554  92111.0  2025-01-25   \n",
      "4   5  4851475245544851495050494554  92111.0  2025-01-19   \n",
      "\n",
      "                      epreuve     tour                 pl               perf  \\\n",
      "0                  5 Km Route  H.Stade  178 (163M - 86SE)  15'37'' (15'32'')   \n",
      "1  Cross court masculin / sem    Cross                169            17'53''   \n",
      "2           800m Piste Courte  Final 1                  3           1'54''38   \n",
      "3           800m Piste Courte  Final 2                  2           1'55''84   \n",
      "4           800m Piste Courte  Final 1                  6           1'55''51   \n",
      "\n",
      "  perf_seconds vt  niv    pts            ville  annee  lieu  \n",
      "0         None     IR3    0.0            Lille   2025  None  \n",
      "1         None                          Lisses   2025  None  \n",
      "2         None     IR1  956.0  Nogent Sur Oise   2025  None  \n",
      "3         None     IR1  917.0           Lievin   2025  None  \n",
      "4         None     IR1  925.0  Nogent Sur Oise   2025  None  \n"
     ]
    }
   ],
   "source": [
    "from sqlalchemy import create_engine\n",
    "import pandas as pd\n",
    "import os\n",
    "from dotenv import load_dotenv\n",
    "\n",
    "load_dotenv()\n",
    "db_url = os.getenv(\"DB_URL\")\n",
    "\n",
    "# Crée l'engine SQLAlchemy\n",
    "engine = create_engine(db_url)\n",
    "\n",
    "# Exemple : lire la table results\n",
    "df = pd.read_sql_query(\"SELECT * FROM results\", engine)\n",
    "print(df.head())"
   ]
  },
  {
   "cell_type": "code",
   "execution_count": 67,
   "id": "7ee546ab",
   "metadata": {},
   "outputs": [
    {
     "data": {
      "text/plain": [
       "748"
      ]
     },
     "execution_count": 67,
     "metadata": {},
     "output_type": "execute_result"
    }
   ],
   "source": [
    "df.epreuve.nunique()"
   ]
  },
  {
   "cell_type": "code",
   "execution_count": 68,
   "id": "b7127d7f",
   "metadata": {},
   "outputs": [
    {
     "data": {
      "text/plain": [
       "(133, 15)"
      ]
     },
     "execution_count": 68,
     "metadata": {},
     "output_type": "execute_result"
    }
   ],
   "source": [
    "steeple = df[(df.epreuve.isin([\"3000m Steeple (91)\"]))]\n",
    "steeple.shape"
   ]
  },
  {
   "cell_type": "code",
   "execution_count": null,
   "id": "736b9eea",
   "metadata": {},
   "outputs": [],
   "source": []
  }
 ],
 "metadata": {
  "kernelspec": {
   "display_name": "base",
   "language": "python",
   "name": "python3"
  },
  "language_info": {
   "codemirror_mode": {
    "name": "ipython",
    "version": 3
   },
   "file_extension": ".py",
   "mimetype": "text/x-python",
   "name": "python",
   "nbconvert_exporter": "python",
   "pygments_lexer": "ipython3",
   "version": "3.12.3"
  }
 },
 "nbformat": 4,
 "nbformat_minor": 5
}
