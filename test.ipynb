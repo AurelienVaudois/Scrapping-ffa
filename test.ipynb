{
 "cells": [
  {
   "cell_type": "code",
   "execution_count": 14,
   "id": "78237bbb",
   "metadata": {},
   "outputs": [],
   "source": [
    "import requests\n",
    "from bs4 import BeautifulSoup\n",
    "import pandas as pd\n",
    "import sqlite3\n",
    "from typing import List, Optional\n",
    "import numpy as np\n",
    "import seaborn as sns\n",
    "import matplotlib.pyplot as plt"
   ]
  },
  {
   "cell_type": "code",
   "execution_count": 2,
   "id": "9f658c89",
   "metadata": {},
   "outputs": [],
   "source": [
    "from src.utils.file_utils import convert_time_to_seconds, create_full_date"
   ]
  },
  {
   "cell_type": "code",
   "execution_count": 1,
   "id": "e4616039",
   "metadata": {},
   "outputs": [
    {
     "name": "stdout",
     "output_type": "stream",
     "text": [
      "   id                           seq     club        date  \\\n",
      "0   1  4851475245544851495050494554  92111.0  2025-03-16   \n",
      "1   2  4851475245544851495050494554  92111.0  2025-02-09   \n",
      "2   3  4851475245544851495050494554  92111.0  2025-02-02   \n",
      "3   4  4851475245544851495050494554  92111.0  2025-01-25   \n",
      "4   5  4851475245544851495050494554  92111.0  2025-01-19   \n",
      "\n",
      "                      epreuve     tour                 pl               perf  \\\n",
      "0                  5 Km Route  H.Stade  178 (163M - 86SE)  15'37'' (15'32'')   \n",
      "1  Cross court masculin / sem    Cross                169            17'53''   \n",
      "2           800m Piste Courte  Final 1                  3           1'54''38   \n",
      "3           800m Piste Courte  Final 2                  2           1'55''84   \n",
      "4           800m Piste Courte  Final 1                  6           1'55''51   \n",
      "\n",
      "  perf_seconds vt  niv    pts            ville  annee  lieu  \n",
      "0         None     IR3    0.0            Lille   2025  None  \n",
      "1         None                          Lisses   2025  None  \n",
      "2         None     IR1  956.0  Nogent Sur Oise   2025  None  \n",
      "3         None     IR1  917.0           Lievin   2025  None  \n",
      "4         None     IR1  925.0  Nogent Sur Oise   2025  None  \n"
     ]
    }
   ],
   "source": [
    "from sqlalchemy import create_engine\n",
    "import pandas as pd\n",
    "import os\n",
    "from dotenv import load_dotenv\n",
    "\n",
    "load_dotenv()\n",
    "db_url = os.getenv(\"DB_URL\")\n",
    "\n",
    "# Crée l'engine SQLAlchemy\n",
    "engine = create_engine(db_url)\n",
    "\n",
    "# Exemple : lire la table results\n",
    "df = pd.read_sql_query(\"SELECT * FROM results\", engine)\n",
    "print(df.head())"
   ]
  },
  {
   "cell_type": "code",
   "execution_count": 28,
   "id": "8ef8988a",
   "metadata": {},
   "outputs": [
    {
     "name": "stdout",
     "output_type": "stream",
     "text": [
      "                            seq              name          club sex  \\\n",
      "0  4851475245544851495050494554  VAUDOIS Aurelien   - Athle 92*   M   \n",
      "\n",
      "                 last_update  \n",
      "0 2025-04-20 23:22:54.803567  \n"
     ]
    }
   ],
   "source": [
    "# Exemple : lire la table results\n",
    "athletes = pd.read_sql_query(\"SELECT * FROM athletes\", engine)\n",
    "print(athletes.head(1))"
   ]
  }
 ],
 "metadata": {
  "kernelspec": {
   "display_name": "base",
   "language": "python",
   "name": "python3"
  },
  "language_info": {
   "codemirror_mode": {
    "name": "ipython",
    "version": 3
   },
   "file_extension": ".py",
   "mimetype": "text/x-python",
   "name": "python",
   "nbconvert_exporter": "python",
   "pygments_lexer": "ipython3",
   "version": "3.12.3"
  }
 },
 "nbformat": 4,
 "nbformat_minor": 5
}
