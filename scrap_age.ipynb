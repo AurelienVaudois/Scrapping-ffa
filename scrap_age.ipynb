{
 "cells": [
  {
   "cell_type": "code",
   "execution_count": 9,
   "id": "51c5a3ba",
   "metadata": {},
   "outputs": [],
   "source": [
    "import requests\n",
    "from bs4 import BeautifulSoup"
   ]
  },
  {
   "cell_type": "code",
   "execution_count": 1,
   "id": "463990a4",
   "metadata": {},
   "outputs": [],
   "source": [
    "from src.utils.wa_utils import (\n",
    "    search_wa_athletes,                                     # WA autocomplete (fallback)\n",
    "    fetch_and_store_wa_results                              # WA scraping (fallback)\n",
    ")\n",
    "\n",
    "from src.utils.scraping_wa import (\n",
    "    search_athletes_by_name as _wa_search,\n",
    "    get_athlete_results_by_name as _wa_results,\n",
    ")"
   ]
  },
  {
   "cell_type": "code",
   "execution_count": 2,
   "id": "c8f50347",
   "metadata": {},
   "outputs": [
    {
     "data": {
      "text/plain": [
       "[{'hactseq': None,\n",
       "  'name': 'Aurelien VAUDOIS',\n",
       "  'club': 'FRA',\n",
       "  'sex': 'Men',\n",
       "  'seq': 'WA_14812063',\n",
       "  'source': 'WA',\n",
       "  'aa_id': 14812063}]"
      ]
     },
     "execution_count": 2,
     "metadata": {},
     "output_type": "execute_result"
    }
   ],
   "source": [
    "search_wa_athletes(\"vaudois\")"
   ]
  },
  {
   "cell_type": "code",
   "execution_count": 37,
   "id": "82de893b",
   "metadata": {},
   "outputs": [
    {
     "data": {
      "text/html": [
       "<div>\n",
       "<style scoped>\n",
       "    .dataframe tbody tr th:only-of-type {\n",
       "        vertical-align: middle;\n",
       "    }\n",
       "\n",
       "    .dataframe tbody tr th {\n",
       "        vertical-align: top;\n",
       "    }\n",
       "\n",
       "    .dataframe thead th {\n",
       "        text-align: right;\n",
       "    }\n",
       "</style>\n",
       "<table border=\"1\" class=\"dataframe\">\n",
       "  <thead>\n",
       "    <tr style=\"text-align: right;\">\n",
       "      <th></th>\n",
       "      <th>aaAthleteId</th>\n",
       "      <th>familyName</th>\n",
       "      <th>givenName</th>\n",
       "      <th>birthDate</th>\n",
       "      <th>disciplines</th>\n",
       "      <th>iaafId</th>\n",
       "      <th>gender</th>\n",
       "      <th>country</th>\n",
       "      <th>urlSlug</th>\n",
       "      <th>__typename</th>\n",
       "    </tr>\n",
       "  </thead>\n",
       "  <tbody>\n",
       "    <tr>\n",
       "      <th>0</th>\n",
       "      <td>14642716</td>\n",
       "      <td>SOUDRIL</td>\n",
       "      <td>Jimy</td>\n",
       "      <td>29 APR 1998</td>\n",
       "      <td>400 Metres Short Track, 400 Metres, 200 Metres</td>\n",
       "      <td>301381</td>\n",
       "      <td>Men</td>\n",
       "      <td>FRA</td>\n",
       "      <td>france/jimy-soudril-14642716</td>\n",
       "      <td>AthleteSearchResult</td>\n",
       "    </tr>\n",
       "  </tbody>\n",
       "</table>\n",
       "</div>"
      ],
      "text/plain": [
       "  aaAthleteId familyName givenName    birthDate  \\\n",
       "0    14642716    SOUDRIL      Jimy  29 APR 1998   \n",
       "\n",
       "                                      disciplines  iaafId gender country  \\\n",
       "0  400 Metres Short Track, 400 Metres, 200 Metres  301381    Men     FRA   \n",
       "\n",
       "                        urlSlug           __typename  \n",
       "0  france/jimy-soudril-14642716  AthleteSearchResult  "
      ]
     },
     "execution_count": 37,
     "metadata": {},
     "output_type": "execute_result"
    }
   ],
   "source": [
    "_wa_search('jimmy soudril')"
   ]
  },
  {
   "cell_type": "code",
   "execution_count": 4,
   "id": "7361efde",
   "metadata": {},
   "outputs": [],
   "source": [
    "from src.utils.http_utils import search_athletes            # FFA autocomplete"
   ]
  },
  {
   "cell_type": "code",
   "execution_count": 84,
   "id": "de639af3",
   "metadata": {},
   "outputs": [
    {
     "name": "stdout",
     "output_type": "stream",
     "text": [
      "Date de naissance: 04/05/1997\n"
     ]
    }
   ],
   "source": [
    "results = search_athletes(\"jimmy gressier\")\n",
    "seq = results[0].get('seq')\n",
    "# URL à scraper\n",
    "url = f\"https://bases.athle.fr/asp.net/athletes.aspx?base=bilans&seq={seq}\"\n",
    "\n",
    "# Envoyer la requête au site web\n",
    "headers = {\n",
    "    \"User-Agent\": \"Mozilla/5.0 (Windows NT 10.0; Win64; x64) AppleWebKit/537.36 (KHTML, like Gecko) Chrome/91.0.4472.124 Safari/537.36\"\n",
    "}\n",
    "response = requests.get(url, headers=headers)\n",
    "\n",
    "# Vérifier si la requête a réussi\n",
    "if response.status_code == 200:\n",
    "    # Parser le contenu HTML\n",
    "    soup = BeautifulSoup(response.content, 'html.parser')\n",
    "    \n",
    "    # Chercher les cellules td avec style=\"width:40%\"\n",
    "    target_element = soup.find('td', style=\"width:40%\")\n",
    "    \n",
    "    # Si l'élément est trouvé, extraire le texte à l'intérieur du b\n",
    "    if target_element and target_element.find('b'):\n",
    "        date_naissance = target_element.find('b').text.strip()\n",
    "        print(\"Date de naissance:\", date_naissance)\n",
    "    else:\n",
    "        print(\"Élément non trouvé. La structure de la page a peut-être changé.\")\n",
    "else:\n",
    "    print(f\"Échec de récupération de la page web. Code de statut: {response.status_code}\")"
   ]
  },
  {
   "cell_type": "code",
   "execution_count": 78,
   "id": "7cb5fc2d",
   "metadata": {},
   "outputs": [
    {
     "name": "stdout",
     "output_type": "stream",
     "text": [
      "Birth year not found\n"
     ]
    }
   ],
   "source": [
    "results = search_athletes(\"habz\")\n",
    "seq = results[0].get('seq')\n",
    "# URL à scraper\n",
    "url = f\"https://bases.athle.fr/asp.net/athletes.aspx?base=bilans&seq={seq}\"\n",
    "\n",
    "# Send request to the website\n",
    "headers = {\n",
    "    \"User-Agent\": \"Mozilla/5.0 (Windows NT 10.0; Win64; x64) AppleWebKit/537.36 (KHTML, like Gecko) Chrome/91.0.4472.124 Safari/537.36\"\n",
    "}\n",
    "response = requests.get(url, headers=headers)\n",
    "\n",
    "# Check if request was successful\n",
    "if response.status_code == 200:\n",
    "    # Use regex to directly extract the year from the HTML\n",
    "    match = re.search(r'<td style=\"width:40%\"><b>(\\d{4})</b></td>', response.text)\n",
    "    if match:\n",
    "        birth_year = match.group(1)\n",
    "        print(\"Birth year:\", birth_year)\n",
    "    else:\n",
    "        print(\"Birth year not found\")\n",
    "else:\n",
    "    print(f\"Failed to retrieve the webpage. Status code: {response.status_code}\")"
   ]
  },
  {
   "cell_type": "code",
   "execution_count": 80,
   "id": "1cba97dd",
   "metadata": {},
   "outputs": [
    {
     "name": "stdout",
     "output_type": "stream",
     "text": [
      "Birth date: 19/07/1993\n"
     ]
    }
   ],
   "source": [
    "results = search_athletes(\"habz\")\n",
    "seq = results[0].get('seq')\n",
    "# URL à scraper\n",
    "url = f\"https://bases.athle.fr/asp.net/athletes.aspx?base=bilans&seq={seq}\"\n",
    "\n",
    "# Send request to the website\n",
    "headers = {\n",
    "    \"User-Agent\": \"Mozilla/5.0 (Windows NT 10.0; Win64; x64) AppleWebKit/537.36 (KHTML, like Gecko) Chrome/91.0.4472.124 Safari/537.36\"\n",
    "}\n",
    "response = requests.get(url, headers=headers)\n",
    "\n",
    "# Check if request was successful\n",
    "if response.status_code == 200:\n",
    "    # Use regex to directly extract date/year from the HTML - handles both \"1998\" and \"19/07/1993\" formats\n",
    "    match = re.search(r'<td style=\"width:40%\"><b>([^<]+)</b></td>', response.text)\n",
    "    if match:\n",
    "        birth_date = match.group(1)\n",
    "        print(\"Birth date:\", birth_date)\n",
    "    else:\n",
    "        print(\"Birth date not found\")\n",
    "else:\n",
    "    print(f\"Failed to retrieve the webpage. Status code: {response.status_code}\")"
   ]
  },
  {
   "cell_type": "code",
   "execution_count": 85,
   "id": "1356e0e2",
   "metadata": {},
   "outputs": [
    {
     "name": "stdout",
     "output_type": "stream",
     "text": [
      "Birth date: 04/05/1997\n"
     ]
    }
   ],
   "source": [
    "import requests\n",
    "import re\n",
    "\n",
    "def scrape_birth_date(url):\n",
    "    headers = {\n",
    "        \"User-Agent\": \"Mozilla/5.0 (Windows NT 10.0; Win64; x64) AppleWebKit/537.36 (KHTML, like Gecko) Chrome/91.0.4472.124 Safari/537.36\"\n",
    "    }\n",
    "    \n",
    "    # Use stream=True to stop downloading once we find our match\n",
    "    with requests.get(url, headers=headers, stream=True) as response:\n",
    "        if response.status_code != 200:\n",
    "            return f\"Failed to retrieve the webpage. Status code: {response.status_code}\"\n",
    "        \n",
    "        # Initialize buffer and pattern\n",
    "        chunk_size = 8192\n",
    "        pattern = re.compile(r'<td style=\"width:40%\"><b>([^<]+)</b></td>')\n",
    "        buffer = \"\"\n",
    "        \n",
    "        # Process the response in chunks\n",
    "        for chunk in response.iter_content(chunk_size=chunk_size, decode_unicode=True):\n",
    "            if not chunk:\n",
    "                continue\n",
    "                \n",
    "            # Add chunk to buffer and search for pattern\n",
    "            buffer += chunk\n",
    "            match = pattern.search(buffer)\n",
    "            \n",
    "            if match:\n",
    "                return match.group(1)\n",
    "                \n",
    "            # Keep only the last 100 characters in case pattern spans chunks\n",
    "            buffer = buffer[-100:] if len(buffer) > 100 else buffer\n",
    "            \n",
    "        return \"Birth date not found\"\n",
    "\n",
    "# Example usage\n",
    "results = search_athletes(\"jimmy gressier\")\n",
    "seq = results[0].get('seq')\n",
    "# URL à scraper\n",
    "url = f\"https://bases.athle.fr/asp.net/athletes.aspx?base=bilans&seq={seq}\"\n",
    "birth_date = scrape_birth_date(url)\n",
    "print(\"Birth date:\", birth_date)"
   ]
  }
 ],
 "metadata": {
  "kernelspec": {
   "display_name": "base",
   "language": "python",
   "name": "python3"
  },
  "language_info": {
   "codemirror_mode": {
    "name": "ipython",
    "version": 3
   },
   "file_extension": ".py",
   "mimetype": "text/x-python",
   "name": "python",
   "nbconvert_exporter": "python",
   "pygments_lexer": "ipython3",
   "version": "3.12.3"
  }
 },
 "nbformat": 4,
 "nbformat_minor": 5
}
