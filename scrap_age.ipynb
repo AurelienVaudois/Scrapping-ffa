{
 "cells": [
  {
   "cell_type": "code",
   "execution_count": 1,
   "id": "463990a4",
   "metadata": {},
   "outputs": [],
   "source": [
    "from src.utils.wa_utils import (\n",
    "    search_wa_athletes,                                     # WA autocomplete (fallback)\n",
    "    fetch_and_store_wa_results                              # WA scraping (fallback)\n",
    ")\n",
    "\n",
    "from src.utils.scraping_wa import (\n",
    "    search_athletes_by_name as _wa_search,\n",
    "    get_athlete_results_by_name as _wa_results,\n",
    ")"
   ]
  },
  {
   "cell_type": "code",
   "execution_count": 2,
   "id": "82de893b",
   "metadata": {},
   "outputs": [
    {
     "data": {
      "text/html": [
       "<div>\n",
       "<style scoped>\n",
       "    .dataframe tbody tr th:only-of-type {\n",
       "        vertical-align: middle;\n",
       "    }\n",
       "\n",
       "    .dataframe tbody tr th {\n",
       "        vertical-align: top;\n",
       "    }\n",
       "\n",
       "    .dataframe thead th {\n",
       "        text-align: right;\n",
       "    }\n",
       "</style>\n",
       "<table border=\"1\" class=\"dataframe\">\n",
       "  <thead>\n",
       "    <tr style=\"text-align: right;\">\n",
       "      <th></th>\n",
       "      <th>aaAthleteId</th>\n",
       "      <th>familyName</th>\n",
       "      <th>givenName</th>\n",
       "      <th>birthDate</th>\n",
       "      <th>disciplines</th>\n",
       "      <th>iaafId</th>\n",
       "      <th>gender</th>\n",
       "      <th>country</th>\n",
       "      <th>urlSlug</th>\n",
       "      <th>__typename</th>\n",
       "    </tr>\n",
       "  </thead>\n",
       "  <tbody>\n",
       "    <tr>\n",
       "      <th>0</th>\n",
       "      <td>14812063</td>\n",
       "      <td>VAUDOIS</td>\n",
       "      <td>Aurelien</td>\n",
       "      <td>06 MAR 1998</td>\n",
       "      <td>4x800 Metres Relay, 800 Metres, 800 Metres Sho...</td>\n",
       "      <td>404944</td>\n",
       "      <td>Men</td>\n",
       "      <td>FRA</td>\n",
       "      <td>france/aurelien-vaudois-014812063</td>\n",
       "      <td>AthleteSearchResult</td>\n",
       "    </tr>\n",
       "  </tbody>\n",
       "</table>\n",
       "</div>"
      ],
      "text/plain": [
       "  aaAthleteId familyName givenName    birthDate  \\\n",
       "0    14812063    VAUDOIS  Aurelien  06 MAR 1998   \n",
       "\n",
       "                                         disciplines  iaafId gender country  \\\n",
       "0  4x800 Metres Relay, 800 Metres, 800 Metres Sho...  404944    Men     FRA   \n",
       "\n",
       "                             urlSlug           __typename  \n",
       "0  france/aurelien-vaudois-014812063  AthleteSearchResult  "
      ]
     },
     "execution_count": 2,
     "metadata": {},
     "output_type": "execute_result"
    }
   ],
   "source": [
    "_wa_search('vaudois')"
   ]
  },
  {
   "cell_type": "code",
   "execution_count": null,
   "id": "7361efde",
   "metadata": {},
   "outputs": [],
   "source": [
    "from src.utils.http_utils import search_athletes            # FFA autocomplete"
   ]
  },
  {
   "cell_type": "code",
   "execution_count": 14,
   "id": "a65fc2d3",
   "metadata": {},
   "outputs": [
    {
     "data": {
      "text/plain": [
       "[{'hactseq': '7543814',\n",
       "  'name': 'HABZ Azeddine',\n",
       "  'club': '',\n",
       "  'sex': 'M',\n",
       "  'seq': '4455465347524851435650494752'}]"
      ]
     },
     "execution_count": 14,
     "metadata": {},
     "output_type": "execute_result"
    }
   ],
   "source": [
    "search_athletes(\"habz\")"
   ]
  },
  {
   "cell_type": "code",
   "execution_count": 17,
   "id": "de639af3",
   "metadata": {},
   "outputs": [
    {
     "name": "stdout",
     "output_type": "stream",
     "text": [
      "Date de naissance: 19/07/1993\n"
     ]
    }
   ],
   "source": [
    "import requests\n",
    "from bs4 import BeautifulSoup\n",
    "\n",
    "# URL à scraper\n",
    "url = \"https://bases.athle.fr/asp.net/athletes.aspx?base=bilans&seq=4455465347524851435650494752\"\n",
    "\n",
    "# Envoyer la requête au site web\n",
    "headers = {\n",
    "    \"User-Agent\": \"Mozilla/5.0 (Windows NT 10.0; Win64; x64) AppleWebKit/537.36 (KHTML, like Gecko) Chrome/91.0.4472.124 Safari/537.36\"\n",
    "}\n",
    "response = requests.get(url, headers=headers)\n",
    "\n",
    "# Vérifier si la requête a réussi\n",
    "if response.status_code == 200:\n",
    "    # Parser le contenu HTML\n",
    "    soup = BeautifulSoup(response.content, 'html.parser')\n",
    "    \n",
    "    # Chercher les cellules td avec style=\"width:40%\"\n",
    "    target_element = soup.find('td', style=\"width:40%\")\n",
    "    \n",
    "    # Si l'élément est trouvé, extraire le texte à l'intérieur du b\n",
    "    if target_element and target_element.find('b'):\n",
    "        date_naissance = target_element.find('b').text.strip()\n",
    "        print(\"Date de naissance:\", date_naissance)\n",
    "    else:\n",
    "        print(\"Élément non trouvé. La structure de la page a peut-être changé.\")\n",
    "else:\n",
    "    print(f\"Échec de récupération de la page web. Code de statut: {response.status_code}\")"
   ]
  },
  {
   "cell_type": "code",
   "execution_count": 18,
   "id": "413441c0",
   "metadata": {},
   "outputs": [
    {
     "data": {
      "text/plain": [
       "b'\\r\\n\\r\\n<!DOCTYPE html PUBLIC \"-//W3C//DTD XHTML 1.0 Transitional//EN\" \"http://www.w3.org/TR/xhtml1/DTD/xhtml1-transitional.dtd\">\\r\\n\\r\\n<html xmlns=\"http://www.w3.org/1999/xhtml\" lang=\"fr\" xml:lang=\"fr\">\\r\\n\\r\\n<head>\\r\\n\\t\\r\\n\\t<title>les Bilans</title>\\r\\n\\t\\r\\n\\r\\n<meta http-equiv=\"Content-Type\" content=\"text/html;charset=utf-8\" />\\r\\n<meta http-equiv=\"content-language\" content=\"fr\" />\\r\\n<meta name=\"description\" content=\"Base de Donn\\xc3\\xa9es - F\\xc3\\xa9d\\xc3\\xa9ration Fran\\xc3\\xa7aise d\\'Athl\\xc3\\xa9tisme\" />\\r\\n<meta name=\"keywords\" content=\"Base de Donn\\xc3\\xa9es - F\\xc3\\xa9d\\xc3\\xa9ration Fran\\xc3\\xa7aise d\\'Athl\\xc3\\xa9tisme\" />\\r\\n<meta name=\"robots\" content=\"noindex, nofollow\" />\\r\\n<script async src=\"https://www.googletagmanager.com/gtag/js?id=G-8XBNLRQE78\"></script>\\r\\n<script>\\r\\n  window.dataLayer = window.dataLayer || [];\\r\\n  function gtag(){dataLayer.push(arguments);}\\r\\n  gtag(\\'js\\', new Date());\\r\\n\\r\\n  gtag(\\'config\\', \\'G-8XBNLRQE78\\');\\r\\n</script>\\r\\n<script language=\"javascript\" src=\"/common/javascript.net/main.js\" type=\"text/javascript\"></script>\\r\\n<script language=\"javascript\" src=\"/common/javascript.net/frontend.smenus.js\" type=\"text/javascript\"></script>\\r\\n<script language=\"javascript\" src=\"/javascript/v3/main.js\" type=\"text/javascript\"></script>\\r\\n<script language=\"javascript\" src=\"/javascript/v3/bases.js\" type=\"text/javascript\"></script>\\r\\n<script language=\"javascript\" src=\"https://www.athle.fr/javascript.net/jquery-1.12.3.min.js\" type=\"text/javascript\"></script>\\r\\n<script language=\"javascript\" src=\"https://www.athle.fr/javascript.net/marketing.js\" type=\"text/javascript\"></script>\\r\\n<link rel=\"stylesheet\" href=\"/common/css.net/main.css\" type=\"text/css\" />\\r\\n<link rel=\"stylesheet\" href=\"/css/v3/fonts.css\" type=\"text/css\" />\\r\\n<link rel=\"stylesheet\" href=\"/css/v3/main.css\" type=\"text/css\" />\\r\\n<link rel=\"stylesheet\" href=\"/css/v3/listing.css?v=6\" type=\"text/css\" />\\r\\n\\r\\n\\r\\n\\r\\n</head>\\r\\n\\r\\n<body onload=\"mainThrowOnLoadEvents()\">\\r\\n\\r\\n<!--[if lte IE 8]> <div class=\"ie678\"> <![endif]-->\\r\\n\\r\\n    <div id=\"ctnMainDetails\">\\r\\n\\r\\n                <div id=\"ctnContentDetails\">\\r\\n\\r\\n                    \\r\\n\\r\\n                                <div class=\"titles\" style=\"background:url(\\'/images/v3/pic.performance.png\\') no-repeat; margin-bottom:10px; min-height:51px; padding-left:70px\">\\r\\n                                    <span style=\"font-size:26px; line-height:26px\">AZEDDINE HABZ<br /></span>\\r\\n                                    <span style=\"color:#000; font-size:15px; line-height:15px\"></span>\\r\\n                                    <div style=\"margin:5px\"><img src=\"/images/v3/pictos.png\" alt=\"\" /></div>\\r\\n                                </div>\\r\\n\\r\\n\\t                            <table width=\"100%\" cellpadding=\"0\" cellspacing=\"0\" style=\"margin-bottom:5px\">\\r\\n                                    <tr>\\r\\n                                        <td style=\"vertical-align:top;width:150px\"><img src=\"/upload/portraits/806/1544806.jpg\" width=\"150px\" height=\"200px\" alt=\"AZEDDINE HABZ\" title=\"AZEDDINE HABZ\" class=\"athlete\" /></td>\\r\\n                                        <td style=\"padding-left:10px;vertical-align:top;width:auto\">\\r\\n    \\t                                    <table cellpadding=\"5\" cellspacing=\"0\">\\r\\n                                                <tr>\\r\\n                                                    <td style=\"text-align:right;white-space:nowrap;width:9%\">N\\xc3\\xa9(e) le</td>\\r\\n                                                    <td style=\"width:1%\">:</td>\\r\\n                                                    <td style=\"width:40%\"><b>19/07/1993</b></td>\\r\\n                                                    \\r\\n                                                        <td colspan=\"3\"></td>\\r\\n                                                    \\r\\n                                                </tr>\\r\\n                                                <tr>\\r\\n                                                    <td style=\"text-align:right;white-space:nowrap\">N\\xc3\\xa9(e) \\xc3\\xa0</td>\\r\\n                                                    <td>:</td>\\r\\n                                                    <td colspan=\"4\"><b>Iloul (MAR)</b></td>\\r\\n                                                </tr>\\r\\n                                                <tr>\\r\\n                                                    <td style=\"text-align:right;white-space:nowrap\">Taille / Poids</td>\\r\\n                                                    <td>:</td>\\r\\n                                                    <td colspan=\"4\"><b>186cm / 70kg</b></td>\\r\\n                                                </tr>\\r\\n                                                <tr>\\r\\n                                                    <td style=\"text-align:right;white-space:nowrap\">Cat. / Nat.</td>\\r\\n                                                    <td>:</td>\\r\\n                                                    <td colspan=\"4\"><b>SE<span style=\"padding-left:5px;padding-right:5px\">/</span>M<span style=\"padding-left:5px;padding-right:5px\">/</span>FRA</b></td>\\r\\n                                                </tr>\\r\\n                                                <tr><td colspan=\"6\"><div class=\"lineBrown\"></div></td></tr>\\r\\n                                                <tr>\\r\\n                                                    <td style=\"text-align:right;white-space:nowrap\">N\\xc2\\xb0 Licence</td>\\r\\n                                                    <td>:</td>\\r\\n                                                    <td colspan=\"4\"><b>1532027 - COMP<span style=\"font-weight:normal;padding-left:8px\">(maj le 19/12/2024)</span></b></td>\\r\\n                                                </tr>\\r\\n                                                <tr>\\r\\n                                                    <td style=\"text-align:right;white-space:nowrap\">Club</td>\\r\\n                                                    <td>:</td>\\r\\n                                                    <td colspan=\"4\"><b>077132 - Val D\\'europe Montevrain Athletisme</b></td>\\r\\n                                                </tr>\\r\\n                                                <tr>\\r\\n                                                    <td style=\"text-align:right;white-space:nowrap\">Ligue / D\\xc3\\xa9pt.</td>\\r\\n                                                    <td>:</td>\\r\\n                                                    <td colspan=\"4\"><b>I-F<span style=\"padding-left:5px;padding-right:5px\">/</span>077</b></td>\\r\\n                                                </tr>\\r\\n                                                <tr>\\r\\n                                                    <td style=\"text-align:right;white-space:nowrap\">Entra\\xc3\\xaeneur(s)</td>\\r\\n                                                    <td>:</td>\\r\\n                                                    <td colspan=\"4\"><b><b>Dupont Philippe</b> (2022 ...) - Olivares Serge (2021 ...)</b></td>\\r\\n                                                </tr>\\r\\n                                                <tr>\\r\\n                                                    <td colspan=\"6\" style=\"padding:0px;text-align:right\"><select class=\"selectMain\" onchange=\"if(this.value){document.location=this.value}\"><option value=\"\" style=\"font-weight:bolder\">R\\xc3\\xa9sultats</option><option value=\"/asp.net/athletes.aspx?base=resultats&seq=4455465347524851435650494752&saison=2025\">&nbsp;&nbsp;Ann\\xc3\\xa9e 2025</option><option value=\"/asp.net/athletes.aspx?base=resultats&seq=4455465347524851435650494752&saison=2024\">&nbsp;&nbsp;Ann\\xc3\\xa9e 2024</option><option value=\"/asp.net/athletes.aspx?base=resultats&seq=4455465347524851435650494752&saison=2023\">&nbsp;&nbsp;Ann\\xc3\\xa9e 2023</option><option value=\"/asp.net/athletes.aspx?base=resultats&seq=4455465347524851435650494752&saison=2022\">&nbsp;&nbsp;Ann\\xc3\\xa9e 2022</option><option value=\"/asp.net/athletes.aspx?base=resultats&seq=4455465347524851435650494752&saison=2021\">&nbsp;&nbsp;Ann\\xc3\\xa9e 2021</option><option value=\"/asp.net/athletes.aspx?base=resultats&seq=4455465347524851435650494752&saison=2020\">&nbsp;&nbsp;Ann\\xc3\\xa9e 2020</option><option value=\"/asp.net/athletes.aspx?base=resultats&seq=4455465347524851435650494752&saison=2019\">&nbsp;&nbsp;Ann\\xc3\\xa9e 2019</option><option value=\"/asp.net/athletes.aspx?base=resultats&seq=4455465347524851435650494752&saison=2018\">&nbsp;&nbsp;Ann\\xc3\\xa9e 2018</option><option value=\"/asp.net/athletes.aspx?base=resultats&seq=4455465347524851435650494752&saison=2017\">&nbsp;&nbsp;Ann\\xc3\\xa9e 2017</option><option value=\"/asp.net/athletes.aspx?base=resultats&seq=4455465347524851435650494752&saison=2016\">&nbsp;&nbsp;Ann\\xc3\\xa9e 2016</option><option value=\"/asp.net/athletes.aspx?base=resultats&seq=4455465347524851435650494752&saison=2015\">&nbsp;&nbsp;Ann\\xc3\\xa9e 2015</option><option value=\"/asp.net/athletes.aspx?base=resultats&seq=4455465347524851435650494752&saison=2014\">&nbsp;&nbsp;Ann\\xc3\\xa9e 2014</option><option value=\"/asp.net/athletes.aspx?base=resultats&seq=4455465347524851435650494752&saison=2013\">&nbsp;&nbsp;Ann\\xc3\\xa9e 2013</option><option value=\"/asp.net/athletes.aspx?base=resultats&seq=4455465347524851435650494752&saison=2012\">&nbsp;&nbsp;Ann\\xc3\\xa9e 2012</option><option value=\"/asp.net/athletes.aspx?base=bilans&seq=4455465347524851435650494752\" style=\"font-weight:bolder\" selected=\"selected\">Bilans</option><option value=\"/asp.net/athletes.aspx?base=podiums&seq=4455465347524851435650494752\" style=\"font-weight:bolder\">Podiums</option><option value=\"/asp.net/athletes.aspx?base=records&seq=4455465347524851435650494752\" style=\"font-weight:bolder\">Records</option><option value=\"/asp.net/athletes.aspx?base=vitessekm&seq=4455465347524851435650494752\" style=\"font-weight:bolder\">Classements Running</option><option value=\"/asp.net/athletes.aspx?base=cclubs&seq=5049465347524752435651484554\" style=\"font-weight:bolder\">Niveau</option><option value=\"/asp.net/athletes.aspx?base=biographies&seq=5049465347524752435651484554&structure=0\" style=\"font-weight:bolder\">Biographie FFA</option><option value=\"/asp.net/athletes.aspx?base=selections&seq=5049465347524752435651484554&structure=0\" style=\"font-weight:bolder\">S\\xc3\\xa9lections FFA</option><option value=\"/asp.net/athletes.aspx?base=coupe&seq=5049465347524752435651484554\" style=\"font-weight:bolder\">Challenges Running</option></select></td>\\r\\n                                                </tr>\\r\\n                                            </table>\\r\\n                                        </td>\\r\\n                                    </tr>\\r\\n\\t                            </table>\\r\\n\\r\\n\\t                        \\r\\n\\r\\n                            <div class=\"lineRed\" style=\"height:2px;margin-top:10px\"></div>\\r\\n\\r\\n\\t                        <div id=\"divRecord\" class=\"displayOn\">\\r\\n\\r\\n\\t                            <div class=\"coloredRed\" style=\"font-weight:bold\">BILANS</div>\\r<table cellpadding=\"0\" cellspacing=\"0\" class=\"linedRed\" style=\"min-height:200px\">\\r<tr>\\r<td style=\"vertical-align:top\">\\r<table cellpadding=\"2\" cellspacing=\"1\">\\r<tr>\\r<td class=\"innerLabels\">Ann\\xc3\\xa9e</td>\\r<td class=\"innerLabels\">Date</td>\\r<td class=\"innerLabels\">Perf.</td>\\r<td class=\"innerLabels\">Club</td>\\r<td class=\"innerLabels\">Lig./Dpt.</td>\\r<td class=\"innerLabels\">Ville</td>\\r</tr>\\r<tr>\\r<td class=\"innersubLabels\" colspan=\"6\"><b>60m - Salle</b></td>\\r</tr><tr>\\r<td class=\"innerDatas\"><a href=\"/asp.net/liste.aspx?frmbase=bilans&frmmode=1&frmespace=&frmannee=2013&frmepreuve=107&frmsexe=M&frmposition=0\" target=\"_blank\">2013</a></td>\\r<td class=\"innerDatas\">20/01/2013</td>\\r<td class=\"innerDatas\">7\\'\\'85</td>\\r<td class=\"innerDatas\">A. Villeneuve La Garenne</td>\\r<td class=\"innerDatas\">I-F / 092</td>\\r<td class=\"innerDatas\">Paris</td>\\r</tr><tr>\\r<td class=\"innerDatas\"><a href=\"/asp.net/liste.aspx?frmbase=bilans&frmmode=1&frmespace=&frmannee=2012&frmepreuve=107&frmsexe=M&frmposition=0\" target=\"_blank\">2012</a></td>\\r<td class=\"innerDatas\">02/12/2012</td>\\r<td class=\"innerDatas\"><b>7\\'\\'78</b></td>\\r<td class=\"innerDatas\">A. Villeneuve La Garenne</td>\\r<td class=\"innerDatas\">I-F / 092</td>\\r<td class=\"innerDatas\">Eaubonne</td>\\r</tr><tr>\\r<td class=\"innersubLabels\" colspan=\"6\"><b><b>400m Piste Courte</b></b></td>\\r</tr><tr>\\r<td class=\"innerDatas\"><a href=\"/asp.net/liste.aspx?frmbase=bilans&frmmode=1&frmespace=&frmannee=2012&frmepreuve=141&frmsexe=M&frmposition=0\" target=\"_blank\">2012</a></td>\\r<td class=\"innerDatas\">02/12/2012</td>\\r<td class=\"innerDatas\"><b>53\\'\\'86</b></td>\\r<td class=\"innerDatas\">A. Villeneuve La Garenne</td>\\r<td class=\"innerDatas\">I-F / 092</td>\\r<td class=\"innerDatas\">Eaubonne</td>\\r</tr><tr>\\r<td class=\"innersubLabels\" colspan=\"6\"><b><b>800m</b></b></td>\\r</tr><tr>\\r<td class=\"innerDatas\"><a href=\"/asp.net/liste.aspx?frmbase=bilans&frmmode=1&frmespace=&frmannee=2024&frmepreuve=208&frmsexe=M&frmposition=0\" target=\"_blank\">2024</a></td>\\r<td class=\"innerDatas\">07/07/2024</td>\\r<td class=\"innerDatas\"><b>1\\'43\\'\\'79</b></td>\\r<td class=\"innerDatas\">Val D\\'europe Montevrain Athletisme</td>\\r<td class=\"innerDatas\">I-F / 077</td>\\r<td class=\"innerDatas\">Paris</td>\\r</tr><tr>\\r<td class=\"innerDatas\"><a href=\"/asp.net/liste.aspx?frmbase=bilans&frmmode=1&frmespace=&frmannee=2023&frmepreuve=208&frmsexe=M&frmposition=0\" target=\"_blank\">2023</a></td>\\r<td class=\"innerDatas\">09/06/2023</td>\\r<td class=\"innerDatas\">1\\'43\\'\\'90</td>\\r<td class=\"innerDatas\">Val D\\'europe Montevrain Athletisme</td>\\r<td class=\"innerDatas\">I-F / 077</td>\\r<td class=\"innerDatas\">Paris</td>\\r</tr><tr>\\r<td class=\"innerDatas\"><a href=\"/asp.net/liste.aspx?frmbase=bilans&frmmode=1&frmespace=&frmannee=2021&frmepreuve=208&frmsexe=M&frmposition=0\" target=\"_blank\">2021</a></td>\\r<td class=\"innerDatas\">19/06/2021</td>\\r<td class=\"innerDatas\">1\\'46\\'\\'20</td>\\r<td class=\"innerDatas\">Val D\\'europe Athletisme</td>\\r<td class=\"innerDatas\">I-F / 077</td>\\r<td class=\"innerDatas\">Decines Charpieu</td>\\r</tr><tr>\\r<td class=\"innerDatas\"><a href=\"/asp.net/liste.aspx?frmbase=bilans&frmmode=1&frmespace=&frmannee=2019&frmepreuve=208&frmsexe=M&frmposition=0\" target=\"_blank\">2019</a></td>\\r<td class=\"innerDatas\">16/07/2019</td>\\r<td class=\"innerDatas\">1\\'49\\'\\'79</td>\\r<td class=\"innerDatas\">Pierrefitte Multi Athlon Villetaneu</td>\\r<td class=\"innerDatas\">I-F / 093</td>\\r<td class=\"innerDatas\">Sotteville Les Rouen</td>\\r</tr><tr>\\r<td class=\"innerDatas\"><a href=\"/asp.net/liste.aspx?frmbase=bilans&frmmode=1&frmespace=&frmannee=2018&frmepreuve=208&frmsexe=M&frmposition=0\" target=\"_blank\">2018</a></td>\\r<td class=\"innerDatas\">29/04/2018</td>\\r<td class=\"innerDatas\">1\\'51\\'\\'82</td>\\r<td class=\"innerDatas\">Pierrefitte Multi Athlon Villetaneu</td>\\r<td class=\"innerDatas\">I-F / 093</td>\\r<td class=\"innerDatas\">Montreuil</td>\\r</tr><tr>\\r<td class=\"innerDatas\"><a href=\"/asp.net/liste.aspx?frmbase=bilans&frmmode=1&frmespace=&frmannee=2017&frmepreuve=208&frmsexe=M&frmposition=0\" target=\"_blank\">2017</a></td>\\r<td class=\"innerDatas\">20/06/2017</td>\\r<td class=\"innerDatas\">1\\'50\\'\\'44</td>\\r<td class=\"innerDatas\">Pierrefitte Multi Athlon</td>\\r<td class=\"innerDatas\">I-F / 093</td>\\r<td class=\"innerDatas\">Pontoise</td>\\r</tr><tr>\\r<td class=\"innersubLabels\" colspan=\"6\"><b>800m Piste Courte</b></td>\\r</tr><tr>\\r<td class=\"innerDatas\"><a href=\"/asp.net/liste.aspx?frmbase=bilans&frmmode=1&frmespace=&frmannee=2023&frmepreuve=209&frmsexe=M&frmposition=0\" target=\"_blank\">2023</a></td>\\r<td class=\"innerDatas\">04/02/2023</td>\\r<td class=\"innerDatas\">1\\'46\\'\\'85</td>\\r<td class=\"innerDatas\">Val D\\'europe Montevrain Athletisme</td>\\r<td class=\"innerDatas\">I-F / 077</td>\\r<td class=\"innerDatas\">Gand (BEL)</td>\\r</tr><tr>\\r<td class=\"innerDatas\"><a href=\"/asp.net/liste.aspx?frmbase=bilans&frmmode=1&frmespace=&frmannee=2021&frmepreuve=209&frmsexe=M&frmposition=0\" target=\"_blank\">2021</a></td>\\r<td class=\"innerDatas\">31/01/2021</td>\\r<td class=\"innerDatas\">1\\'50\\'\\'15</td>\\r<td class=\"innerDatas\">Val D\\'europe Athletisme</td>\\r<td class=\"innerDatas\">I-F / 077</td>\\r<td class=\"innerDatas\">Eaubonne</td>\\r</tr><tr>\\r<td class=\"innerDatas\"><a href=\"/asp.net/liste.aspx?frmbase=bilans&frmmode=1&frmespace=&frmannee=2013&frmepreuve=209&frmsexe=M&frmposition=0\" target=\"_blank\">2013</a></td>\\r<td class=\"innerDatas\">16/11/2013</td>\\r<td class=\"innerDatas\">2\\'01\\'\\'09</td>\\r<td class=\"innerDatas\">Pierrefitte Multi Athlon</td>\\r<td class=\"innerDatas\">I-F / 093</td>\\r<td class=\"innerDatas\">Eaubonne</td>\\r</tr><tr>\\r<td class=\"innersubLabels\" colspan=\"6\"><b><b>1 000m</b></b></td>\\r</tr><tr>\\r<td class=\"innerDatas\"><a href=\"/asp.net/liste.aspx?frmbase=bilans&frmmode=1&frmespace=&frmannee=2020&frmepreuve=210&frmsexe=M&frmposition=0\" target=\"_blank\">2020</a></td>\\r<td class=\"innerDatas\">22/08/2020</td>\\r<td class=\"innerDatas\"><b>2\\'22\\'\\'34</b></td>\\r<td class=\"innerDatas\">Racing Multi Athlon</td>\\r<td class=\"innerDatas\">I-F / 075</td>\\r<td class=\"innerDatas\">Vernon</td>\\r</tr><tr>\\r<td class=\"innerDatas\"><a href=\"/asp.net/liste.aspx?frmbase=bilans&frmmode=1&frmespace=&frmannee=2016&frmepreuve=210&frmsexe=M&frmposition=0\" target=\"_blank\">2016</a></td>\\r<td class=\"innerDatas\">27/04/2016</td>\\r<td class=\"innerDatas\">2\\'25\\'\\'89</td>\\r<td class=\"innerDatas\">Pierrefitte Multi Athlon</td>\\r<td class=\"innerDatas\">I-F / 093</td>\\r<td class=\"innerDatas\">Paris</td>\\r</tr><tr>\\r<td class=\"innerDatas\"><a href=\"/asp.net/liste.aspx?frmbase=bilans&frmmode=1&frmespace=&frmannee=2014&frmepreuve=210&frmsexe=M&frmposition=0\" target=\"_blank\">2014</a></td>\\r<td class=\"innerDatas\">14/05/2014</td>\\r<td class=\"innerDatas\">2\\'29\\'\\'02</td>\\r<td class=\"innerDatas\">Pierrefitte Multi Athlon</td>\\r<td class=\"innerDatas\">I-F / 093</td>\\r<td class=\"innerDatas\">Saint Maur Des Fosses</td>\\r</tr><tr>\\r<td class=\"innersubLabels\" colspan=\"6\"><b>1 500m</b></td>\\r</tr><tr>\\r<td class=\"innerDatas\"><a href=\"/asp.net/liste.aspx?frmbase=bilans&frmmode=1&frmespace=&frmannee=2025&frmepreuve=215&frmsexe=M&frmposition=0\" target=\"_blank\">2025</a></td>\\r<td class=\"innerDatas\">13/09/2024</td>\\r<td class=\"innerDatas\">3\\'31\\'\\'91</td>\\r<td class=\"innerDatas\"><i>NL la veille de la comp\\xc3\\xa9tition</i></td>\\r<td class=\"innerDatas\"> / </td>\\r<td class=\"innerDatas\">Bruxelles (BEL)</td>\\r</tr><tr>\\r<td class=\"innerDatas\"><a href=\"/asp.net/liste.aspx?frmbase=bilans&frmmode=1&frmespace=&frmannee=2024&frmepreuve=215&frmsexe=M&frmposition=0\" target=\"_blank\">2024</a></td>\\r<td class=\"innerDatas\">30/05/2024</td>\\r<td class=\"innerDatas\">3\\'30\\'\\'80</td>\\r<td class=\"innerDatas\">Val D\\'europe Montevrain Athletisme</td>\\r<td class=\"innerDatas\">I-F / 077</td>\\r<td class=\"innerDatas\">Oslo (NOR)</td>\\r</tr><tr>\\r<td class=\"innerDatas\"><a href=\"/asp.net/liste.aspx?frmbase=bilans&frmmode=1&frmespace=&frmannee=2023&frmepreuve=215&frmsexe=M&frmposition=0\" target=\"_blank\">2023</a></td>\\r<td class=\"innerDatas\">15/06/2023</td>\\r<td class=\"innerDatas\"><b>3\\'29\\'\\'26</b></td>\\r<td class=\"innerDatas\">Val D\\'europe Montevrain Athletisme</td>\\r<td class=\"innerDatas\">I-F / 077</td>\\r<td class=\"innerDatas\">Oslo (NOR)</td>\\r</tr><tr>\\r<td class=\"innerDatas\"><a href=\"/asp.net/liste.aspx?frmbase=bilans&frmmode=1&frmespace=&frmannee=2022&frmepreuve=215&frmsexe=M&frmposition=0\" target=\"_blank\">2022</a></td>\\r<td class=\"innerDatas\">15/06/2022</td>\\r<td class=\"innerDatas\">3\\'36\\'\\'22</td>\\r<td class=\"innerDatas\">Val D\\'europe Athletisme</td>\\r<td class=\"innerDatas\">I-F / 077</td>\\r<td class=\"innerDatas\">Marseille</td>\\r</tr><tr>\\r<td class=\"innerDatas\"><a href=\"/asp.net/liste.aspx?frmbase=bilans&frmmode=1&frmespace=&frmannee=2021&frmepreuve=215&frmsexe=M&frmposition=0\" target=\"_blank\">2021</a></td>\\r<td class=\"innerDatas\">09/07/2021</td>\\r<td class=\"innerDatas\">3\\'31\\'\\'74</td>\\r<td class=\"innerDatas\">Val D\\'europe Athletisme</td>\\r<td class=\"innerDatas\">I-F / 077</td>\\r<td class=\"innerDatas\">Monaco</td>\\r</tr><tr>\\r<td class=\"innerDatas\"><a href=\"/asp.net/liste.aspx?frmbase=bilans&frmmode=1&frmespace=&frmannee=2020&frmepreuve=215&frmsexe=M&frmposition=0\" target=\"_blank\">2020</a></td>\\r<td class=\"innerDatas\">03/09/2020</td>\\r<td class=\"innerDatas\">3\\'35\\'\\'87</td>\\r<td class=\"innerDatas\">Racing Multi Athlon</td>\\r<td class=\"innerDatas\">I-F / 075</td>\\r<td class=\"innerDatas\">Marseille</td>\\r</tr><tr>\\r<td class=\"innerDatas\"><a href=\"/asp.net/liste.aspx?frmbase=bilans&frmmode=1&frmespace=&frmannee=2019&frmepreuve=215&frmsexe=M&frmposition=0\" target=\"_blank\">2019</a></td>\\r<td class=\"innerDatas\">02/07/2019</td>\\r<td class=\"innerDatas\">3\\'38\\'\\'11</td>\\r<td class=\"innerDatas\">Pierrefitte Multi Athlon Villetaneu</td>\\r<td class=\"innerDatas\">I-F / 093</td>\\r<td class=\"innerDatas\">Marseille</td>\\r</tr><tr>\\r<td class=\"innerDatas\"><a href=\"/asp.net/liste.aspx?frmbase=bilans&frmmode=1&frmespace=&frmannee=2018&frmepreuve=215&frmsexe=M&frmposition=0\" target=\"_blank\">2018</a></td>\\r<td class=\"innerDatas\">02/06/2018</td>\\r<td class=\"innerDatas\">3\\'46\\'\\'93</td>\\r<td class=\"innerDatas\">Pierrefitte Multi Athlon Villetaneu</td>\\r<td class=\"innerDatas\">I-F / 093</td>\\r<td class=\"innerDatas\">Douai</td>\\r</tr><tr>\\r<td class=\"innerDatas\"><a href=\"/asp.net/liste.aspx?frmbase=bilans&frmmode=1&frmespace=&frmannee=2017&frmepreuve=215&frmsexe=M&frmposition=0\" target=\"_blank\">2017</a></td>\\r<td class=\"innerDatas\">10/06/2017</td>\\r<td class=\"innerDatas\">3\\'49\\'\\'30</td>\\r<td class=\"innerDatas\">Pierrefitte Multi Athlon</td>\\r<td class=\"innerDatas\">I-F / 093</td>\\r<td class=\"innerDatas\">Amiens</td>\\r</tr><tr>\\r<td class=\"innerDatas\"><a href=\"/asp.net/liste.aspx?frmbase=bilans&frmmode=1&frmespace=&frmannee=2014&frmepreuve=215&frmsexe=M&frmposition=0\" target=\"_blank\">2014</a></td>\\r<td class=\"innerDatas\">21/06/2014</td>\\r<td class=\"innerDatas\">3\\'54\\'\\'00</td>\\r<td class=\"innerDatas\">Pierrefitte Multi Athlon</td>\\r<td class=\"innerDatas\">I-F / 093</td>\\r<td class=\"innerDatas\">Amiens</td>\\r</tr><tr>\\r<td class=\"innersubLabels\" colspan=\"6\"><b>1 500m Piste Courte</b></td>\\r</tr><tr>\\r<td class=\"innerDatas\"><a href=\"/asp.net/liste.aspx?frmbase=bilans&frmmode=1&frmespace=&frmannee=2025&frmepreuve=216&frmsexe=M&frmposition=0\" target=\"_blank\">2025</a></td>\\r<td class=\"innerDatas\">08/02/2025</td>\\r<td class=\"innerDatas\">3\\'32\\'\\'24</td>\\r<td class=\"innerDatas\">Val D\\'europe Montevrain Athletisme</td>\\r<td class=\"innerDatas\">I-F / 077</td>\\r<td class=\"innerDatas\">New York (USA)</td>\\r</tr><tr>\\r<td class=\"innerDatas\"><a href=\"/asp.net/liste.aspx?frmbase=bilans&frmmode=1&frmespace=&frmannee=2024&frmepreuve=216&frmsexe=M&frmposition=0\" target=\"_blank\">2024</a></td>\\r<td class=\"innerDatas\">10/02/2024</td>\\r<td class=\"innerDatas\">3\\'34\\'\\'39</td>\\r<td class=\"innerDatas\">Val D\\'europe Montevrain Athletisme</td>\\r<td class=\"innerDatas\">I-F / 077</td>\\r<td class=\"innerDatas\">Lievin</td>\\r</tr><tr>\\r<td class=\"innerDatas\"><a href=\"/asp.net/liste.aspx?frmbase=bilans&frmmode=1&frmespace=&frmannee=2023&frmepreuve=216&frmsexe=M&frmposition=0\" target=\"_blank\">2023</a></td>\\r<td class=\"innerDatas\">15/02/2023</td>\\r<td class=\"innerDatas\">3\\'35\\'\\'27</td>\\r<td class=\"innerDatas\">Val D\\'europe Montevrain Athletisme</td>\\r<td class=\"innerDatas\">I-F / 077</td>\\r<td class=\"innerDatas\">Lievin</td>\\r</tr><tr>\\r<td class=\"innerDatas\"><a href=\"/asp.net/liste.aspx?frmbase=bilans&frmmode=1&frmespace=&frmannee=2022&frmepreuve=216&frmsexe=M&frmposition=0\" target=\"_blank\">2022</a></td>\\r<td class=\"innerDatas\">12/02/2022</td>\\r<td class=\"innerDatas\">3\\'39\\'\\'16</td>\\r<td class=\"innerDatas\">Val D\\'europe Athletisme</td>\\r<td class=\"innerDatas\">I-F / 077</td>\\r<td class=\"innerDatas\">Metz</td>\\r</tr><tr>\\r<td class=\"innerDatas\"><a href=\"/asp.net/liste.aspx?frmbase=bilans&frmmode=1&frmespace=&frmannee=2021&frmepreuve=216&frmsexe=M&frmposition=0\" target=\"_blank\">2021</a></td>\\r<td class=\"innerDatas\">03/02/2021</td>\\r<td class=\"innerDatas\">3\\'40\\'\\'11</td>\\r<td class=\"innerDatas\">Val D\\'europe Athletisme</td>\\r<td class=\"innerDatas\">I-F / 077</td>\\r<td class=\"innerDatas\">Ostrava (CZE)</td>\\r</tr><tr>\\r<td class=\"innerDatas\"><a href=\"/asp.net/liste.aspx?frmbase=bilans&frmmode=1&frmespace=&frmannee=2020&frmepreuve=216&frmsexe=M&frmposition=0\" target=\"_blank\">2020</a></td>\\r<td class=\"innerDatas\">05/02/2020</td>\\r<td class=\"innerDatas\">3\\'42\\'\\'90</td>\\r<td class=\"innerDatas\">Racing Multi Athlon</td>\\r<td class=\"innerDatas\">I-F / 075</td>\\r<td class=\"innerDatas\">Reims</td>\\r</tr><tr>\\r<td class=\"innersubLabels\" colspan=\"6\"><b><b>Mile Piste Courte</b></b></td>\\r</tr><tr>\\r<td class=\"innerDatas\"><a href=\"/asp.net/liste.aspx?frmbase=bilans&frmmode=1&frmespace=&frmannee=2025&frmepreuve=217&frmsexe=M&frmposition=0\" target=\"_blank\">2025</a></td>\\r<td class=\"innerDatas\">08/02/2025</td>\\r<td class=\"innerDatas\"><b>3\\'47\\'\\'56</b></td>\\r<td class=\"innerDatas\">Val D\\'europe Montevrain Athletisme</td>\\r<td class=\"innerDatas\">I-F / 077</td>\\r<td class=\"innerDatas\">New York (USA)</td>\\r</tr><tr>\\r<td class=\"innersubLabels\" colspan=\"6\"><b><b>Mile</b></b></td>\\r</tr><tr>\\r<td class=\"innerDatas\"><a href=\"/asp.net/liste.aspx?frmbase=bilans&frmmode=1&frmespace=&frmannee=2025&frmepreuve=218&frmsexe=M&frmposition=0\" target=\"_blank\">2025</a></td>\\r<td class=\"innerDatas\">08/02/2025</td>\\r<td class=\"innerDatas\"><b>3\\'47\\'\\'56</b></td>\\r<td class=\"innerDatas\">Val D\\'europe Montevrain Athletisme</td>\\r<td class=\"innerDatas\">I-F / 077</td>\\r<td class=\"innerDatas\">New York (USA)</td>\\r</tr><tr>\\r<td class=\"innerDatas\"><a href=\"/asp.net/liste.aspx?frmbase=bilans&frmmode=1&frmespace=&frmannee=2024&frmepreuve=218&frmsexe=M&frmposition=0\" target=\"_blank\">2024</a></td>\\r<td class=\"innerDatas\">16/09/2023</td>\\r<td class=\"innerDatas\">3\\'48\\'\\'64</td>\\r<td class=\"innerDatas\">Val D\\'europe Montevrain Athletisme</td>\\r<td class=\"innerDatas\">I-F / 077</td>\\r<td class=\"innerDatas\">Eugene (USA)</td>\\r</tr><tr>\\r<td class=\"innerDatas\"><a href=\"/asp.net/liste.aspx?frmbase=bilans&frmmode=1&frmespace=&frmannee=2022&frmepreuve=218&frmsexe=M&frmposition=0\" target=\"_blank\">2022</a></td>\\r<td class=\"innerDatas\">14/05/2022</td>\\r<td class=\"innerDatas\">3\\'57\\'\\'76</td>\\r<td class=\"innerDatas\">Val D\\'europe Athletisme</td>\\r<td class=\"innerDatas\">I-F / 077</td>\\r<td class=\"innerDatas\">Londres (GBR)</td>\\r</tr><tr>\\r<td class=\"innersubLabels\" colspan=\"6\"><b>2 000m</b></td>\\r</tr><tr>\\r<td class=\"innerDatas\"><a href=\"/asp.net/liste.aspx?frmbase=bilans&frmmode=1&frmespace=&frmannee=2016&frmepreuve=220&frmsexe=M&frmposition=0\" target=\"_blank\">2016</a></td>\\r<td class=\"innerDatas\">04/05/2016</td>\\r<td class=\"innerDatas\">5\\'18\\'\\'89</td>\\r<td class=\"innerDatas\">Pierrefitte Multi Athlon</td>\\r<td class=\"innerDatas\">I-F / 093</td>\\r<td class=\"innerDatas\">Saint Maur Des Fosses</td>\\r</tr><tr>\\r<td class=\"innersubLabels\" colspan=\"6\"><b><b>2 000m Piste Courte</b></b></td>\\r</tr><tr>\\r<td class=\"innerDatas\"><a href=\"/asp.net/liste.aspx?frmbase=bilans&frmmode=1&frmespace=&frmannee=2022&frmepreuve=221&frmsexe=M&frmposition=0\" target=\"_blank\">2022</a></td>\\r<td class=\"innerDatas\">17/02/2022</td>\\r<td class=\"innerDatas\"><b>4\\'57\\'\\'22</b></td>\\r<td class=\"innerDatas\">Val D\\'europe Athletisme</td>\\r<td class=\"innerDatas\">I-F / 077</td>\\r<td class=\"innerDatas\">Lievin</td>\\r</tr><tr>\\r<td class=\"innersubLabels\" colspan=\"6\"><b><b>3 000m</b></b></td>\\r</tr><tr>\\r<td class=\"innerDatas\"><a href=\"/asp.net/liste.aspx?frmbase=bilans&frmmode=1&frmespace=&frmannee=2025&frmepreuve=230&frmsexe=M&frmposition=0\" target=\"_blank\">2025</a></td>\\r<td class=\"innerDatas\">02/02/2025</td>\\r<td class=\"innerDatas\"><b>7\\'31\\'\\'50</b></td>\\r<td class=\"innerDatas\">Val D\\'europe Montevrain Athletisme</td>\\r<td class=\"innerDatas\">I-F / 077</td>\\r<td class=\"innerDatas\">Boston (USA)</td>\\r</tr><tr>\\r<td class=\"innerDatas\"><a href=\"/asp.net/liste.aspx?frmbase=bilans&frmmode=1&frmespace=&frmannee=2018&frmepreuve=230&frmsexe=M&frmposition=0\" target=\"_blank\">2018</a></td>\\r<td class=\"innerDatas\">13/05/2018</td>\\r<td class=\"innerDatas\">8\\'06\\'\\'63</td>\\r<td class=\"innerDatas\">Pierrefitte Multi Athlon Villetaneu</td>\\r<td class=\"innerDatas\">I-F / 093</td>\\r<td class=\"innerDatas\">Montgeron</td>\\r</tr><tr>\\r<td class=\"innerDatas\"><a href=\"/asp.net/liste.aspx?frmbase=bilans&frmmode=1&frmespace=&frmannee=2017&frmepreuve=230&frmsexe=M&frmposition=0\" target=\"_blank\">2017</a></td>\\r<td class=\"innerDatas\">14/05/2017</td>\\r<td class=\"innerDatas\">8\\'12\\'\\'48</td>\\r<td class=\"innerDatas\">Pierrefitte Multi Athlon</td>\\r<td class=\"innerDatas\">I-F / 093</td>\\r<td class=\"innerDatas\">Montgeron</td>\\r</tr><tr>\\r<td class=\"innerDatas\"><a href=\"/asp.net/liste.aspx?frmbase=bilans&frmmode=1&frmespace=&frmannee=2016&frmepreuve=230&frmsexe=M&frmposition=0\" target=\"_blank\">2016</a></td>\\r<td class=\"innerDatas\">15/05/2016</td>\\r<td class=\"innerDatas\">8\\'14\\'\\'93</td>\\r<td class=\"innerDatas\">Pierrefitte Multi Athlon</td>\\r<td class=\"innerDatas\">I-F / 093</td>\\r<td class=\"innerDatas\">Montgeron</td>\\r</tr><tr>\\r<td class=\"innersubLabels\" colspan=\"6\"><b><b>3 000m Piste Courte</b></b></td>\\r</tr><tr>\\r<td class=\"innerDatas\"><a href=\"/asp.net/liste.aspx?frmbase=bilans&frmmode=1&frmespace=&frmannee=2025&frmepreuve=231&frmsexe=M&frmposition=0\" target=\"_blank\">2025</a></td>\\r<td class=\"innerDatas\">02/02/2025</td>\\r<td class=\"innerDatas\"><b>7\\'31\\'\\'50</b></td>\\r<td class=\"innerDatas\">Val D\\'europe Montevrain Athletisme</td>\\r<td class=\"innerDatas\">I-F / 077</td>\\r<td class=\"innerDatas\">Boston (USA)</td>\\r</tr><tr>\\r<td class=\"innerDatas\"><a href=\"/asp.net/liste.aspx?frmbase=bilans&frmmode=1&frmespace=&frmannee=2022&frmepreuve=231&frmsexe=M&frmposition=0\" target=\"_blank\">2022</a></td>\\r<td class=\"innerDatas\">06/02/2022</td>\\r<td class=\"innerDatas\">7\\'43\\'\\'33</td>\\r<td class=\"innerDatas\">Val D\\'europe Athletisme</td>\\r<td class=\"innerDatas\">I-F / 077</td>\\r<td class=\"innerDatas\">New York (USA)</td>\\r</tr><tr>\\r<td class=\"innerDatas\"><a href=\"/asp.net/liste.aspx?frmbase=bilans&frmmode=1&frmespace=&frmannee=2020&frmepreuve=231&frmsexe=M&frmposition=0\" target=\"_blank\">2020</a></td>\\r<td class=\"innerDatas\">09/02/2020</td>\\r<td class=\"innerDatas\">7\\'56\\'\\'32</td>\\r<td class=\"innerDatas\">Racing Multi Athlon</td>\\r<td class=\"innerDatas\">I-F / 075</td>\\r<td class=\"innerDatas\">Metz</td>\\r</tr><tr>\\r<td class=\"innersubLabels\" colspan=\"6\"><b>5 000m</b></td>\\r</tr><tr>\\r<td class=\"innerDatas\"><a href=\"/asp.net/liste.aspx?frmbase=bilans&frmmode=1&frmespace=&frmannee=2020&frmepreuve=250&frmsexe=M&frmposition=0\" target=\"_blank\">2020</a></td>\\r<td class=\"innerDatas\">12/09/2020</td>\\r<td class=\"innerDatas\">14\\'24\\'\\'54</td>\\r<td class=\"innerDatas\">Racing Multi Athlon</td>\\r<td class=\"innerDatas\">I-F / 075</td>\\r<td class=\"innerDatas\">Albi</td>\\r</tr><tr>\\r<td class=\"innerDatas\"><a href=\"/asp.net/liste.aspx?frmbase=bilans&frmmode=1&frmespace=&frmannee=2019&frmepreuve=250&frmsexe=M&frmposition=0\" target=\"_blank\">2019</a></td>\\r<td class=\"innerDatas\">25/05/2019</td>\\r<td class=\"innerDatas\"><b>13\\'38\\'\\'00</b></td>\\r<td class=\"innerDatas\">Pierrefitte Multi Athlon Villetaneu</td>\\r<td class=\"innerDatas\">I-F / 093</td>\\r<td class=\"innerDatas\">Oordegem (BEL)</td>\\r</tr><tr>\\r<td class=\"innerDatas\"><a href=\"/asp.net/liste.aspx?frmbase=bilans&frmmode=1&frmespace=&frmannee=2018&frmepreuve=250&frmsexe=M&frmposition=0\" target=\"_blank\">2018</a></td>\\r<td class=\"innerDatas\">16/06/2018</td>\\r<td class=\"innerDatas\">13\\'48\\'\\'16</td>\\r<td class=\"innerDatas\">Pierrefitte Multi Athlon Villetaneu</td>\\r<td class=\"innerDatas\">I-F / 093</td>\\r<td class=\"innerDatas\">Carquefou</td>\\r</tr><tr>\\r<td class=\"innerDatas\"><a href=\"/asp.net/liste.aspx?frmbase=bilans&frmmode=1&frmespace=&frmannee=2014&frmepreuve=250&frmsexe=M&frmposition=0\" target=\"_blank\">2014</a></td>\\r<td class=\"innerDatas\">05/06/2014</td>\\r<td class=\"innerDatas\">14\\'35\\'\\'11</td>\\r<td class=\"innerDatas\">Pierrefitte Multi Athlon</td>\\r<td class=\"innerDatas\">I-F / 093</td>\\r<td class=\"innerDatas\">Bonneuil Sur Marne</td>\\r</tr><tr>\\r<td class=\"innersubLabels\" colspan=\"6\"><b><b>5 Km Route</b></b></td>\\r</tr><tr>\\r<td class=\"innerDatas\"><a href=\"/asp.net/liste.aspx?frmbase=bilans&frmmode=1&frmespace=&frmannee=2020&frmepreuve=252&frmsexe=M&frmposition=0\" target=\"_blank\">2020</a></td>\\r<td class=\"innerDatas\">15/02/2020</td>\\r<td class=\"innerDatas\"><b>13\\'43\\'\\'</b></td>\\r<td class=\"innerDatas\">Racing Multi Athlon</td>\\r<td class=\"innerDatas\">I-F / 075</td>\\r<td class=\"innerDatas\">Monaco (MON)</td>\\r</tr><tr>\\r<td class=\"innersubLabels\" colspan=\"6\"><b><b>10 000m</b></b></td>\\r</tr><tr>\\r<td class=\"innerDatas\"><a href=\"/asp.net/liste.aspx?frmbase=bilans&frmmode=1&frmespace=&frmannee=2017&frmepreuve=260&frmsexe=M&frmposition=0\" target=\"_blank\">2017</a></td>\\r<td class=\"innerDatas\">29/04/2017</td>\\r<td class=\"innerDatas\"><b>30\\'50\\'\\'81</b></td>\\r<td class=\"innerDatas\">Pierrefitte Multi Athlon</td>\\r<td class=\"innerDatas\">I-F / 093</td>\\r<td class=\"innerDatas\">Pace</td>\\r</tr><tr>\\r<td class=\"innersubLabels\" colspan=\"6\"><b><b>10 Km Route</b></b></td>\\r</tr><tr>\\r<td class=\"innerDatas\"><a href=\"/asp.net/liste.aspx?frmbase=bilans&frmmode=1&frmespace=&frmannee=2025&frmepreuve=261&frmsexe=M&frmposition=0\" target=\"_blank\">2025</a></td>\\r<td class=\"innerDatas\">05/01/2025</td>\\r<td class=\"innerDatas\"><b>27\\'44\\'\\'</b></td>\\r<td class=\"innerDatas\">Val D\\'europe Montevrain Athletisme</td>\\r<td class=\"innerDatas\">I-F / 077</td>\\r<td class=\"innerDatas\">Nice</td>\\r</tr><tr>\\r<td class=\"innerDatas\"><a href=\"/asp.net/liste.aspx?frmbase=bilans&frmmode=1&frmespace=&frmannee=2023&frmepreuve=261&frmsexe=M&frmposition=0\" target=\"_blank\">2023</a></td>\\r<td class=\"innerDatas\">18/12/2022</td>\\r<td class=\"innerDatas\">28\\'47\\'\\'</td>\\r<td class=\"innerDatas\">Val D\\'europe Athletisme</td>\\r<td class=\"innerDatas\">I-F / 077</td>\\r<td class=\"innerDatas\">Houilles</td>\\r</tr><tr>\\r<td class=\"innerDatas\"><a href=\"/asp.net/liste.aspx?frmbase=bilans&frmmode=1&frmespace=&frmannee=2022&frmepreuve=261&frmsexe=M&frmposition=0\" target=\"_blank\">2022</a></td>\\r<td class=\"innerDatas\">09/01/2022</td>\\r<td class=\"innerDatas\">28\\'22\\'\\'</td>\\r<td class=\"innerDatas\">Val D\\'europe Athletisme</td>\\r<td class=\"innerDatas\">I-F / 077</td>\\r<td class=\"innerDatas\">Valence (ESP)</td>\\r</tr><tr>\\r<td class=\"innerDatas\"><a href=\"/asp.net/liste.aspx?frmbase=bilans&frmmode=1&frmespace=&frmannee=2021&frmepreuve=261&frmsexe=M&frmposition=0\" target=\"_blank\">2021</a></td>\\r<td class=\"innerDatas\">07/11/2021</td>\\r<td class=\"innerDatas\">28\\'44\\'\\'</td>\\r<td class=\"innerDatas\">Val D\\'europe Athletisme</td>\\r<td class=\"innerDatas\">I-F / 077</td>\\r<td class=\"innerDatas\">Bordeaux</td>\\r</tr><tr>\\r<td class=\"innerDatas\"><a href=\"/asp.net/liste.aspx?frmbase=bilans&frmmode=1&frmespace=&frmannee=2020&frmepreuve=261&frmsexe=M&frmposition=0\" target=\"_blank\">2020</a></td>\\r<td class=\"innerDatas\">12/12/2020</td>\\r<td class=\"innerDatas\">29\\'38\\'\\'</td>\\r<td class=\"innerDatas\">Racing Multi Athlon</td>\\r<td class=\"innerDatas\">I-F / 075</td>\\r<td class=\"innerDatas\">Albi</td>\\r</tr><tr>\\r<td class=\"innerDatas\"><a href=\"/asp.net/liste.aspx?frmbase=bilans&frmmode=1&frmespace=&frmannee=2019&frmepreuve=261&frmsexe=M&frmposition=0\" target=\"_blank\">2019</a></td>\\r<td class=\"innerDatas\">29/12/2019</td>\\r<td class=\"innerDatas\">28\\'32\\'\\'</td>\\r<td class=\"innerDatas\">Racing Multi Athlon</td>\\r<td class=\"innerDatas\">I-F / 075</td>\\r<td class=\"innerDatas\">Houilles</td>\\r</tr><tr>\\r<td class=\"innerDatas\"><a href=\"/asp.net/liste.aspx?frmbase=bilans&frmmode=1&frmespace=&frmannee=2018&frmepreuve=261&frmsexe=M&frmposition=0\" target=\"_blank\">2018</a></td>\\r<td class=\"innerDatas\">25/03/2018</td>\\r<td class=\"innerDatas\">29\\'19\\'\\'</td>\\r<td class=\"innerDatas\">Pierrefitte Multi Athlon Villetaneu</td>\\r<td class=\"innerDatas\">I-F / 093</td>\\r<td class=\"innerDatas\">Aubergenville</td>\\r</tr><tr>\\r<td class=\"innerDatas\"><a href=\"/asp.net/liste.aspx?frmbase=bilans&frmmode=1&frmespace=&frmannee=2017&frmepreuve=261&frmsexe=M&frmposition=0\" target=\"_blank\">2017</a></td>\\r<td class=\"innerDatas\">28/10/2017</td>\\r<td class=\"innerDatas\">29\\'45\\'\\'</td>\\r<td class=\"innerDatas\">Pierrefitte Multi Athlon</td>\\r<td class=\"innerDatas\">I-F / 093</td>\\r<td class=\"innerDatas\">Montereau</td>\\r</tr><tr>\\r<td class=\"innerDatas\"><a href=\"/asp.net/liste.aspx?frmbase=bilans&frmmode=1&frmespace=&frmannee=2016&frmepreuve=261&frmsexe=M&frmposition=0\" target=\"_blank\">2016</a></td>\\r<td class=\"innerDatas\">22/10/2016</td>\\r<td class=\"innerDatas\">29\\'55\\'\\'</td>\\r<td class=\"innerDatas\">Pierrefitte Multi Athlon</td>\\r<td class=\"innerDatas\">I-F / 093</td>\\r<td class=\"innerDatas\">Montereau</td>\\r</tr><tr>\\r<td class=\"innerDatas\"><a href=\"/asp.net/liste.aspx?frmbase=bilans&frmmode=1&frmespace=&frmannee=2015&frmepreuve=261&frmsexe=M&frmposition=0\" target=\"_blank\">2015</a></td>\\r<td class=\"innerDatas\">19/04/2015</td>\\r<td class=\"innerDatas\">31\\'18\\'\\'</td>\\r<td class=\"innerDatas\">Pierrefitte Multi Athlon</td>\\r<td class=\"innerDatas\">I-F / 093</td>\\r<td class=\"innerDatas\">Aix Les Bains</td>\\r</tr><tr>\\r<td class=\"innerDatas\"><a href=\"/asp.net/liste.aspx?frmbase=bilans&frmmode=1&frmespace=&frmannee=2014&frmepreuve=261&frmsexe=M&frmposition=0\" target=\"_blank\">2014</a></td>\\r<td class=\"innerDatas\">13/04/2014</td>\\r<td class=\"innerDatas\">30\\'39\\'\\'</td>\\r<td class=\"innerDatas\">Pierrefitte Multi Athlon</td>\\r<td class=\"innerDatas\">I-F / 093</td>\\r<td class=\"innerDatas\">Valenciennes</td>\\r</tr><tr>\\r<td class=\"innerDatas\"><a href=\"/asp.net/liste.aspx?frmbase=bilans&frmmode=1&frmespace=&frmannee=2013&frmepreuve=261&frmsexe=M&frmposition=0\" target=\"_blank\">2013</a></td>\\r<td class=\"innerDatas\">27/10/2013</td>\\r<td class=\"innerDatas\">32\\'24\\'\\'</td>\\r<td class=\"innerDatas\">Pierrefitte Multi Athlon</td>\\r<td class=\"innerDatas\">I-F / 093</td>\\r<td class=\"innerDatas\">Montereau Fault Yonne</td>\\r</tr><tr>\\r<td class=\"innersubLabels\" colspan=\"6\"><b><b>1/2 Marathon</b></b></td>\\r</tr><tr>\\r<td class=\"innerDatas\"><a href=\"/asp.net/liste.aspx?frmbase=bilans&frmmode=1&frmespace=&frmannee=2020&frmepreuve=271&frmsexe=M&frmposition=0\" target=\"_blank\">2020</a></td>\\r<td class=\"innerDatas\">19/09/2020</td>\\r<td class=\"innerDatas\"><b>1h04\\'53\\'\\'</b></td>\\r<td class=\"innerDatas\">Racing Multi Athlon</td>\\r<td class=\"innerDatas\">I-F / 075</td>\\r<td class=\"innerDatas\">Ust\\xc3\\xad Nad Labem (CZE)</td>\\r</tr><tr>\\r<td class=\"innerDatas\"><a href=\"/asp.net/liste.aspx?frmbase=bilans&frmmode=1&frmespace=&frmannee=2018&frmepreuve=271&frmsexe=M&frmposition=0\" target=\"_blank\">2018</a></td>\\r<td class=\"innerDatas\">28/10/2018</td>\\r<td class=\"innerDatas\">1h05\\'00\\'\\'</td>\\r<td class=\"innerDatas\">Pierrefitte Multi Athlon Villetaneu</td>\\r<td class=\"innerDatas\">I-F / 093</td>\\r<td class=\"innerDatas\">Saint Omer</td>\\r</tr><tr>\\r<td class=\"innerDatas\"><a href=\"/asp.net/liste.aspx?frmbase=bilans&frmmode=1&frmespace=&frmannee=2015&frmepreuve=271&frmsexe=M&frmposition=0\" target=\"_blank\">2015</a></td>\\r<td class=\"innerDatas\">04/10/2015</td>\\r<td class=\"innerDatas\">1h17\\'25\\'\\'</td>\\r<td class=\"innerDatas\">Pierrefitte Multi Athlon</td>\\r<td class=\"innerDatas\">I-F / 093</td>\\r<td class=\"innerDatas\">Fort De France</td>\\r</tr><tr>\\r<td class=\"innerDatas\"><a href=\"/asp.net/liste.aspx?frmbase=bilans&frmmode=1&frmespace=&frmannee=2014&frmepreuve=271&frmsexe=M&frmposition=0\" target=\"_blank\">2014</a></td>\\r<td class=\"innerDatas\">26/10/2014</td>\\r<td class=\"innerDatas\">1h09\\'24\\'\\'</td>\\r<td class=\"innerDatas\">Pierrefitte Multi Athlon</td>\\r<td class=\"innerDatas\">I-F / 093</td>\\r<td class=\"innerDatas\">Saint-Denis</td>\\r</tr><tr>\\r<td class=\"innersubLabels\" colspan=\"6\"><b><b>3000m Steeple (91)</b></b></td>\\r</tr><tr>\\r<td class=\"innerDatas\"><a href=\"/asp.net/liste.aspx?frmbase=bilans&frmmode=1&frmespace=&frmannee=2018&frmepreuve=430&frmsexe=M&frmposition=0\" target=\"_blank\">2018</a></td>\\r<td class=\"innerDatas\">12/07/2018</td>\\r<td class=\"innerDatas\"><b>9\\'01\\'\\'33</b></td>\\r<td class=\"innerDatas\">Pierrefitte Multi Athlon Villetaneu</td>\\r<td class=\"innerDatas\">I-F / 093</td>\\r<td class=\"innerDatas\">Saint Maur Des Fosses</td>\\r</tr></table>\\r</td>\\r</tr>\\r</table>\\r\\r\\n                \\t\\t\\t\\t\\t\\t\\r\\n\\t\\t                            \\r\\n\\r\\n\\t                        </div>\\r\\n\\r\\n\\t\\t                    \\r\\n\\r\\n\\t                    \\r\\n\\r\\n                    <div class=\"close\">&gt;&gt;&nbsp;<a href=\"javascript:self.close()\">Fermer cette Fen\\xc3\\xaatre</a>&nbsp;&lt;&lt;</div>\\r\\n\\r\\n        </div>\\r\\n\\r\\n    </div>\\r\\n\\r\\n<!--[if lte IE 8]> </div> <![endif]-->\\r\\n\\r\\n</body>\\r\\n\\r\\n</html>\\r\\n'"
      ]
     },
     "execution_count": 18,
     "metadata": {},
     "output_type": "execute_result"
    }
   ],
   "source": [
    "response.content"
   ]
  },
  {
   "cell_type": "code",
   "execution_count": 22,
   "id": "7cb5fc2d",
   "metadata": {},
   "outputs": [
    {
     "name": "stdout",
     "output_type": "stream",
     "text": [
      "Birth year: 1998\n"
     ]
    }
   ],
   "source": [
    "import requests\n",
    "import re\n",
    "\n",
    "# URL to scrape\n",
    "url = \"https://bases.athle.fr/asp.net/athletes.aspx?base=bilans&seq=4851475245544851495050494554\"\n",
    "\n",
    "# Send request to the website\n",
    "headers = {\n",
    "    \"User-Agent\": \"Mozilla/5.0 (Windows NT 10.0; Win64; x64) AppleWebKit/537.36 (KHTML, like Gecko) Chrome/91.0.4472.124 Safari/537.36\"\n",
    "}\n",
    "response = requests.get(url, headers=headers)\n",
    "\n",
    "# Check if request was successful\n",
    "if response.status_code == 200:\n",
    "    # Use regex to directly extract the year from the HTML\n",
    "    match = re.search(r'<td style=\"width:40%\"><b>(\\d{4})</b></td>', response.text)\n",
    "    if match:\n",
    "        birth_year = match.group(1)\n",
    "        print(\"Birth year:\", birth_year)\n",
    "    else:\n",
    "        print(\"Birth year not found\")\n",
    "else:\n",
    "    print(f\"Failed to retrieve the webpage. Status code: {response.status_code}\")"
   ]
  },
  {
   "cell_type": "code",
   "execution_count": 23,
   "id": "1cba97dd",
   "metadata": {},
   "outputs": [
    {
     "name": "stdout",
     "output_type": "stream",
     "text": [
      "Birth date: 19/07/1993\n"
     ]
    }
   ],
   "source": [
    "import requests\n",
    "import re\n",
    "\n",
    "# URL to scrape 4455465347524851435650494752\n",
    "url = \"https://bases.athle.fr/asp.net/athletes.aspx?base=bilans&seq=4455465347524851435650494752\"\n",
    "\n",
    "# Send request to the website\n",
    "headers = {\n",
    "    \"User-Agent\": \"Mozilla/5.0 (Windows NT 10.0; Win64; x64) AppleWebKit/537.36 (KHTML, like Gecko) Chrome/91.0.4472.124 Safari/537.36\"\n",
    "}\n",
    "response = requests.get(url, headers=headers)\n",
    "\n",
    "# Check if request was successful\n",
    "if response.status_code == 200:\n",
    "    # Use regex to directly extract date/year from the HTML - handles both \"1998\" and \"19/07/1993\" formats\n",
    "    match = re.search(r'<td style=\"width:40%\"><b>([^<]+)</b></td>', response.text)\n",
    "    if match:\n",
    "        birth_date = match.group(1)\n",
    "        print(\"Birth date:\", birth_date)\n",
    "    else:\n",
    "        print(\"Birth date not found\")\n",
    "else:\n",
    "    print(f\"Failed to retrieve the webpage. Status code: {response.status_code}\")"
   ]
  },
  {
   "cell_type": "code",
   "execution_count": 24,
   "id": "1356e0e2",
   "metadata": {},
   "outputs": [
    {
     "name": "stdout",
     "output_type": "stream",
     "text": [
      "Birth date: 1998\n"
     ]
    }
   ],
   "source": [
    "import requests\n",
    "import re\n",
    "\n",
    "def scrape_birth_date(url):\n",
    "    headers = {\n",
    "        \"User-Agent\": \"Mozilla/5.0 (Windows NT 10.0; Win64; x64) AppleWebKit/537.36 (KHTML, like Gecko) Chrome/91.0.4472.124 Safari/537.36\"\n",
    "    }\n",
    "    \n",
    "    # Use stream=True to stop downloading once we find our match\n",
    "    with requests.get(url, headers=headers, stream=True) as response:\n",
    "        if response.status_code != 200:\n",
    "            return f\"Failed to retrieve the webpage. Status code: {response.status_code}\"\n",
    "        \n",
    "        # Initialize buffer and pattern\n",
    "        chunk_size = 8192\n",
    "        pattern = re.compile(r'<td style=\"width:40%\"><b>([^<]+)</b></td>')\n",
    "        buffer = \"\"\n",
    "        \n",
    "        # Process the response in chunks\n",
    "        for chunk in response.iter_content(chunk_size=chunk_size, decode_unicode=True):\n",
    "            if not chunk:\n",
    "                continue\n",
    "                \n",
    "            # Add chunk to buffer and search for pattern\n",
    "            buffer += chunk\n",
    "            match = pattern.search(buffer)\n",
    "            \n",
    "            if match:\n",
    "                return match.group(1)\n",
    "                \n",
    "            # Keep only the last 100 characters in case pattern spans chunks\n",
    "            buffer = buffer[-100:] if len(buffer) > 100 else buffer\n",
    "            \n",
    "        return \"Birth date not found\"\n",
    "\n",
    "# Example usage\n",
    "url = \"https://bases.athle.fr/asp.net/athletes.aspx?base=bilans&seq=4851475245544851495050494554\"\n",
    "birth_date = scrape_birth_date(url)\n",
    "print(\"Birth date:\", birth_date)"
   ]
  }
 ],
 "metadata": {
  "kernelspec": {
   "display_name": "base",
   "language": "python",
   "name": "python3"
  },
  "language_info": {
   "codemirror_mode": {
    "name": "ipython",
    "version": 3
   },
   "file_extension": ".py",
   "mimetype": "text/x-python",
   "name": "python",
   "nbconvert_exporter": "python",
   "pygments_lexer": "ipython3",
   "version": "3.12.3"
  }
 },
 "nbformat": 4,
 "nbformat_minor": 5
}
